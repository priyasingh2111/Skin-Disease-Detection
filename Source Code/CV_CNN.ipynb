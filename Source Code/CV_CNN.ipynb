{
  "cells": [
    {
      "cell_type": "code",
      "execution_count": null,
      "metadata": {
        "id": "kxMoMrbeZghp"
      },
      "outputs": [],
      "source": [
        "import numpy as np\n",
        "from tensorflow.keras.optimizers import Adam\n",
        "#from keras.utils import np_utils\n",
        "from keras.layers import Activation, Dropout, Convolution2D, GlobalAveragePooling2D\n",
        "from keras.models import Sequential\n",
        "import tensorflow as tf\n",
        "import tensorflow.keras.applications.mobilenet\n",
        "import os"
      ]
    },
    {
      "cell_type": "code",
      "execution_count": null,
      "metadata": {
        "id": "qcxQzq3laFdr"
      },
      "outputs": [],
      "source": [
        "IMG_SAVE_PATH = r'/content/drive/MyDrive/Split_smol/train'"
      ]
    },
    {
      "cell_type": "code",
      "execution_count": null,
      "metadata": {
        "id": "YbAs-l5eaFgP"
      },
      "outputs": [],
      "source": [
        "Str_to_Int = {\n",
        "    'Actinic keratosis': 0,\n",
        "    'Atopic Dermatitis': 1,\n",
        "    'Benign keratosis': 2,\n",
        "    'Dermatofibroma': 3,\n",
        "    'Melanocytic nevus': 4,\n",
        "    'Melanoma':5,\n",
        "    'Squamous cell carcinoma': 6,\n",
        "    'Tinea Ringworm Candidiasis':7,\n",
        "    'Vascular lesion': 8\n",
        "}\n",
        "\n",
        "NUM_CLASSES = 9\n",
        "\n",
        "\n",
        "def str_to_Int_mapper(val):\n",
        "    return Str_to_Int[val]"
      ]
    },
    {
      "cell_type": "code",
      "execution_count": null,
      "metadata": {
        "id": "MLb9eOuPaFiy"
      },
      "outputs": [],
      "source": [
        "import PIL\n",
        "import cv2\n",
        "\n",
        "dataset = []\n",
        "for directory in os.listdir(IMG_SAVE_PATH):\n",
        "    path = os.path.join(IMG_SAVE_PATH, directory)\n",
        "    for image in os.listdir(path):\n",
        "        new_path = os.path.join(path, image)\n",
        "        try:\n",
        "            imgpath=PIL.Image.open(new_path)\n",
        "            #if imgpath.shape!=(240,240,3):\n",
        "            imgpath=imgpath.convert('RGB')\n",
        "            img = np.asarray(imgpath)\n",
        "            img = cv2.resize(img, (240,240))\n",
        "            img=img/255.\n",
        "            dataset.append([img, directory])\n",
        "        except FileNotFoundError:\n",
        "            print('Image file not found. Skipping...')"
      ]
    },
    {
      "cell_type": "code",
      "execution_count": null,
      "metadata": {
        "id": "PYuLBGPVaFlf"
      },
      "outputs": [],
      "source": [
        "data, labels = zip(*dataset)\n",
        "temp = list(map(str_to_Int_mapper, labels))"
      ]
    },
    {
      "cell_type": "code",
      "execution_count": null,
      "metadata": {
        "id": "ERZ8cYpaaFoO"
      },
      "outputs": [],
      "source": [
        "import keras\n",
        "labels = keras.utils.to_categorical(temp)"
      ]
    },
    {
      "cell_type": "code",
      "execution_count": null,
      "metadata": {
        "colab": {
          "base_uri": "https://localhost:8080/"
        },
        "id": "CWW_kqaPaFq3",
        "outputId": "e2f87335-c1de-4e42-f19a-24bddd590697"
      },
      "outputs": [
        {
          "output_type": "stream",
          "name": "stdout",
          "text": [
            "0\n"
          ]
        }
      ],
      "source": [
        "count=0\n",
        "for i in data:\n",
        "    if i.shape!=(240, 240, 3):\n",
        "        count=count+1\n",
        "print(count)"
      ]
    },
    {
      "cell_type": "code",
      "execution_count": null,
      "metadata": {
        "id": "szYBvmfyaFtj"
      },
      "outputs": [],
      "source": [
        "def cnn():\n",
        "    model = Sequential()\n",
        "\n",
        "    model.add(Conv2D(32, kernel_size=(3, 3), activation='relu', input_shape=(240, 240, 3)))\n",
        "    model.add(Conv2D(64, kernel_size=(3, 3), activation='relu'))\n",
        "    model.add(MaxPooling2D(pool_size=(2, 2)))\n",
        "    model.add(Dropout(0.25))\n",
        "\n",
        "    model.add(Conv2D(128, kernel_size=(3, 3), activation='relu'))\n",
        "    model.add(Conv2D(128, kernel_size=(3, 3), activation='relu'))\n",
        "    model.add(MaxPooling2D(pool_size=(2, 2)))\n",
        "    model.add(Dropout(0.25))\n",
        "\n",
        "    model.add(Conv2D(256, kernel_size=(3, 3), activation='relu'))\n",
        "    model.add(Conv2D(256, kernel_size=(3, 3), activation='relu'))\n",
        "    model.add(MaxPooling2D(pool_size=(2, 2)))\n",
        "    model.add(Dropout(0.25))\n",
        "\n",
        "    model.add(Flatten())\n",
        "    model.add(Dense(512, activation='relu'))\n",
        "    model.add(Dropout(0.5))\n",
        "    model.add(Dense(256, activation='relu'))\n",
        "    model.add(Dense(9, activation='softmax'))\n",
        "\n",
        "    return model\n"
      ]
    },
    {
      "cell_type": "code",
      "execution_count": null,
      "metadata": {
        "id": "XcjI9LVZaFwZ"
      },
      "outputs": [],
      "source": [
        "from keras.layers import Dense , Dropout , Conv2D , MaxPooling2D, Flatten\n",
        "model_cnn=cnn()\n",
        "model_cnn.compile(\n",
        "    optimizer=Adam(learning_rate=0.0001),         # lr = learning_rate\n",
        "    loss='categorical_crossentropy',   # Multi-class classification\n",
        "    metrics=['accuracy']\n",
        ")"
      ]
    },
    {
      "cell_type": "code",
      "execution_count": null,
      "metadata": {
        "colab": {
          "base_uri": "https://localhost:8080/"
        },
        "id": "BKaCBzXGaFy7",
        "outputId": "73247113-39ca-4bcb-e56c-ecb0d162e9c8"
      },
      "outputs": [
        {
          "output_type": "stream",
          "name": "stdout",
          "text": [
            "Model: \"sequential\"\n",
            "_________________________________________________________________\n",
            " Layer (type)                Output Shape              Param #   \n",
            "=================================================================\n",
            " conv2d (Conv2D)             (None, 238, 238, 32)      896       \n",
            "                                                                 \n",
            " conv2d_1 (Conv2D)           (None, 236, 236, 64)      18496     \n",
            "                                                                 \n",
            " max_pooling2d (MaxPooling2  (None, 118, 118, 64)      0         \n",
            " D)                                                              \n",
            "                                                                 \n",
            " dropout (Dropout)           (None, 118, 118, 64)      0         \n",
            "                                                                 \n",
            " conv2d_2 (Conv2D)           (None, 116, 116, 128)     73856     \n",
            "                                                                 \n",
            " conv2d_3 (Conv2D)           (None, 114, 114, 128)     147584    \n",
            "                                                                 \n",
            " max_pooling2d_1 (MaxPoolin  (None, 57, 57, 128)       0         \n",
            " g2D)                                                            \n",
            "                                                                 \n",
            " dropout_1 (Dropout)         (None, 57, 57, 128)       0         \n",
            "                                                                 \n",
            " conv2d_4 (Conv2D)           (None, 55, 55, 256)       295168    \n",
            "                                                                 \n",
            " conv2d_5 (Conv2D)           (None, 53, 53, 256)       590080    \n",
            "                                                                 \n",
            " max_pooling2d_2 (MaxPoolin  (None, 26, 26, 256)       0         \n",
            " g2D)                                                            \n",
            "                                                                 \n",
            " dropout_2 (Dropout)         (None, 26, 26, 256)       0         \n",
            "                                                                 \n",
            " flatten (Flatten)           (None, 173056)            0         \n",
            "                                                                 \n",
            " dense (Dense)               (None, 512)               88605184  \n",
            "                                                                 \n",
            " dropout_3 (Dropout)         (None, 512)               0         \n",
            "                                                                 \n",
            " dense_1 (Dense)             (None, 256)               131328    \n",
            "                                                                 \n",
            " dense_2 (Dense)             (None, 9)                 2313      \n",
            "                                                                 \n",
            "=================================================================\n",
            "Total params: 89864905 (342.81 MB)\n",
            "Trainable params: 89864905 (342.81 MB)\n",
            "Non-trainable params: 0 (0.00 Byte)\n",
            "_________________________________________________________________\n"
          ]
        }
      ],
      "source": [
        "model_cnn.summary()"
      ]
    },
    {
      "cell_type": "code",
      "execution_count": null,
      "metadata": {
        "colab": {
          "base_uri": "https://localhost:8080/"
        },
        "id": "WyZci6MVaF1g",
        "outputId": "cc4f9c94-e475-4ef3-ab78-00c616145f4e"
      },
      "outputs": [
        {
          "output_type": "stream",
          "name": "stdout",
          "text": [
            "Epoch 1/20\n",
            "18/18 [==============================] - 37s 1s/step - loss: 2.1664 - accuracy: 0.1337 - val_loss: 2.4455 - val_accuracy: 0.0000e+00\n",
            "Epoch 2/20\n",
            "18/18 [==============================] - 7s 401ms/step - loss: 2.0685 - accuracy: 0.1373 - val_loss: 2.4477 - val_accuracy: 0.0000e+00\n",
            "Epoch 3/20\n",
            "18/18 [==============================] - 7s 405ms/step - loss: 2.0553 - accuracy: 0.1729 - val_loss: 2.5569 - val_accuracy: 0.0000e+00\n",
            "Epoch 4/20\n",
            "18/18 [==============================] - 7s 416ms/step - loss: 1.9844 - accuracy: 0.2068 - val_loss: 2.6780 - val_accuracy: 0.0000e+00\n",
            "Epoch 5/20\n",
            "18/18 [==============================] - 8s 444ms/step - loss: 1.9071 - accuracy: 0.2692 - val_loss: 2.8212 - val_accuracy: 0.0000e+00\n",
            "Epoch 6/20\n",
            "18/18 [==============================] - 8s 423ms/step - loss: 1.7853 - accuracy: 0.3137 - val_loss: 3.1952 - val_accuracy: 0.0000e+00\n",
            "Epoch 7/20\n",
            "18/18 [==============================] - 8s 420ms/step - loss: 1.6980 - accuracy: 0.3868 - val_loss: 3.4806 - val_accuracy: 0.0000e+00\n",
            "Epoch 8/20\n",
            "18/18 [==============================] - 8s 433ms/step - loss: 1.6194 - accuracy: 0.3565 - val_loss: 3.0709 - val_accuracy: 0.0000e+00\n",
            "Epoch 9/20\n",
            "18/18 [==============================] - 8s 435ms/step - loss: 1.5342 - accuracy: 0.4242 - val_loss: 3.2039 - val_accuracy: 0.0000e+00\n",
            "Epoch 10/20\n",
            "18/18 [==============================] - 8s 443ms/step - loss: 1.4285 - accuracy: 0.4599 - val_loss: 3.3004 - val_accuracy: 0.0000e+00\n",
            "Epoch 11/20\n",
            "18/18 [==============================] - 8s 428ms/step - loss: 1.4055 - accuracy: 0.4581 - val_loss: 3.1477 - val_accuracy: 0.0000e+00\n",
            "Epoch 12/20\n",
            "18/18 [==============================] - 8s 435ms/step - loss: 1.2837 - accuracy: 0.5098 - val_loss: 3.4497 - val_accuracy: 0.0000e+00\n",
            "Epoch 13/20\n",
            "18/18 [==============================] - 8s 451ms/step - loss: 1.2260 - accuracy: 0.5258 - val_loss: 3.5277 - val_accuracy: 0.0000e+00\n",
            "Epoch 14/20\n",
            "18/18 [==============================] - 8s 430ms/step - loss: 1.1870 - accuracy: 0.5561 - val_loss: 3.8149 - val_accuracy: 0.0000e+00\n",
            "Epoch 15/20\n",
            "18/18 [==============================] - 8s 426ms/step - loss: 1.1123 - accuracy: 0.5847 - val_loss: 4.3643 - val_accuracy: 0.0000e+00\n",
            "Epoch 16/20\n",
            "18/18 [==============================] - 8s 438ms/step - loss: 1.0752 - accuracy: 0.6025 - val_loss: 3.4582 - val_accuracy: 0.0000e+00\n",
            "Epoch 17/20\n",
            "18/18 [==============================] - 8s 423ms/step - loss: 0.9833 - accuracy: 0.6096 - val_loss: 4.3125 - val_accuracy: 0.0000e+00\n",
            "Epoch 18/20\n",
            "18/18 [==============================] - 8s 419ms/step - loss: 1.0136 - accuracy: 0.6328 - val_loss: 4.2436 - val_accuracy: 0.0000e+00\n",
            "Epoch 19/20\n",
            "18/18 [==============================] - 8s 422ms/step - loss: 0.9216 - accuracy: 0.6667 - val_loss: 4.3685 - val_accuracy: 0.0000e+00\n",
            "Epoch 20/20\n",
            "18/18 [==============================] - 8s 422ms/step - loss: 0.8193 - accuracy: 0.7059 - val_loss: 4.1089 - val_accuracy: 0.0071\n"
          ]
        }
      ],
      "source": [
        "history_cnn=model_cnn.fit(np.array(data), np.array(labels), epochs = 20, batch_size=32, shuffle = True, validation_split = 0.2)"
      ]
    },
    {
      "cell_type": "code",
      "execution_count": null,
      "metadata": {
        "colab": {
          "base_uri": "https://localhost:8080/"
        },
        "id": "qOGIxtFHVAzT",
        "outputId": "2ac196c7-0bae-4c7a-c078-c52d9708a3fe"
      },
      "outputs": [
        {
          "output_type": "stream",
          "name": "stdout",
          "text": [
            "Final Training Accuracy: 0.7058823704719543\n",
            "Final Validation Accuracy: 0.007092198356986046\n"
          ]
        }
      ],
      "source": [
        "print(\"Final Training Accuracy:\", history_cnn.history['accuracy'][-1])\n",
        "print(\"Final Validation Accuracy:\", history_cnn.history['val_accuracy'][-1])"
      ]
    },
    {
      "cell_type": "code",
      "execution_count": null,
      "metadata": {
        "colab": {
          "base_uri": "https://localhost:8080/"
        },
        "id": "KngnlV0faF4d",
        "outputId": "5f14999c-1d78-44ad-bd13-19faa9e308c1"
      },
      "outputs": [
        {
          "output_type": "stream",
          "name": "stderr",
          "text": [
            "/usr/local/lib/python3.10/dist-packages/keras/src/engine/training.py:3103: UserWarning: You are saving your model as an HDF5 file via `model.save()`. This file format is considered legacy. We recommend using instead the native Keras format, e.g. `model.save('my_model.keras')`.\n",
            "  saving_api.save_model(\n"
          ]
        }
      ],
      "source": [
        "# save the model for later use\n",
        "model_cnn.save(\"skin_disease_model_ISIC_densenet.h5\")"
      ]
    },
    {
      "cell_type": "code",
      "execution_count": null,
      "metadata": {
        "id": "S0AUHmP_aF63"
      },
      "outputs": [],
      "source": [
        "IMG_SAVE_PATH_TESTING = r'/content/drive/MyDrive/Split_smol/val'"
      ]
    },
    {
      "cell_type": "code",
      "execution_count": null,
      "metadata": {
        "id": "gpgI5Pm0aF9b"
      },
      "outputs": [],
      "source": [
        "import PIL\n",
        "import cv2\n",
        "dataset_testing = []\n",
        "for directory in os.listdir(IMG_SAVE_PATH_TESTING):\n",
        "    path = os.path.join(IMG_SAVE_PATH_TESTING, directory)\n",
        "    for image in os.listdir(path):\n",
        "        new_path = os.path.join(path, image)\n",
        "        imgpath=PIL.Image.open(new_path)\n",
        "        #if imgpath.shape!=(240,240,3):\n",
        "        imgpath=imgpath.convert('RGB')\n",
        "        img = np.asarray(imgpath)\n",
        "#         img = cv2.imread(new_path)\n",
        "#         img = cv2.cvtColor(img, cv2.COLOR_BGR2RGB)\n",
        "        img = cv2.resize(img, (240, 240))\n",
        "        img=img/255.\n",
        "        dataset_testing.append([img, directory])"
      ]
    },
    {
      "cell_type": "code",
      "execution_count": null,
      "metadata": {
        "id": "0ZNb-2mMaGAQ"
      },
      "outputs": [],
      "source": [
        "testing_data, testing_labels = zip(*dataset_testing)\n",
        "testing_temp = list(map(str_to_Int_mapper, testing_labels))"
      ]
    },
    {
      "cell_type": "code",
      "execution_count": null,
      "metadata": {
        "id": "wBuGFuqykAE0"
      },
      "outputs": [],
      "source": [
        "import keras\n",
        "testing_labels = keras.utils.to_categorical(testing_temp)"
      ]
    },
    {
      "cell_type": "code",
      "execution_count": null,
      "metadata": {
        "colab": {
          "base_uri": "https://localhost:8080/"
        },
        "id": "UOPyS4AfkAHh",
        "outputId": "f14b3255-e3b9-4f1d-cf70-921e2ebffd4e"
      },
      "outputs": [
        {
          "output_type": "stream",
          "name": "stdout",
          "text": [
            "6/6 [==============================] - 4s 720ms/step - loss: 1.6606 - accuracy: 0.5193\n",
            "Test Loss: 1.6606066226959229\n",
            "Test Accuracy: 0.519336998462677\n"
          ]
        }
      ],
      "source": [
        "#Evaluating test accuracy\n",
        "test_loss, test_accuracy = model_cnn.evaluate(np.array(testing_data), np.array(testing_labels))\n",
        "print(\"Test Loss:\", test_loss)\n",
        "print(\"Test Accuracy:\", test_accuracy)"
      ]
    },
    {
      "cell_type": "code",
      "execution_count": null,
      "metadata": {
        "colab": {
          "base_uri": "https://localhost:8080/"
        },
        "id": "a-Sj1ji7kAKM",
        "outputId": "4c22cf1c-2d54-4996-864b-1770ca681e7c"
      },
      "outputs": [
        {
          "output_type": "stream",
          "name": "stdout",
          "text": [
            "Collecting scikit-plot\n",
            "  Downloading scikit_plot-0.3.7-py3-none-any.whl (33 kB)\n",
            "Requirement already satisfied: matplotlib>=1.4.0 in /usr/local/lib/python3.10/dist-packages (from scikit-plot) (3.7.1)\n",
            "Requirement already satisfied: scikit-learn>=0.18 in /usr/local/lib/python3.10/dist-packages (from scikit-plot) (1.2.2)\n",
            "Requirement already satisfied: scipy>=0.9 in /usr/local/lib/python3.10/dist-packages (from scikit-plot) (1.11.4)\n",
            "Requirement already satisfied: joblib>=0.10 in /usr/local/lib/python3.10/dist-packages (from scikit-plot) (1.4.0)\n",
            "Requirement already satisfied: contourpy>=1.0.1 in /usr/local/lib/python3.10/dist-packages (from matplotlib>=1.4.0->scikit-plot) (1.2.1)\n",
            "Requirement already satisfied: cycler>=0.10 in /usr/local/lib/python3.10/dist-packages (from matplotlib>=1.4.0->scikit-plot) (0.12.1)\n",
            "Requirement already satisfied: fonttools>=4.22.0 in /usr/local/lib/python3.10/dist-packages (from matplotlib>=1.4.0->scikit-plot) (4.51.0)\n",
            "Requirement already satisfied: kiwisolver>=1.0.1 in /usr/local/lib/python3.10/dist-packages (from matplotlib>=1.4.0->scikit-plot) (1.4.5)\n",
            "Requirement already satisfied: numpy>=1.20 in /usr/local/lib/python3.10/dist-packages (from matplotlib>=1.4.0->scikit-plot) (1.25.2)\n",
            "Requirement already satisfied: packaging>=20.0 in /usr/local/lib/python3.10/dist-packages (from matplotlib>=1.4.0->scikit-plot) (24.0)\n",
            "Requirement already satisfied: pillow>=6.2.0 in /usr/local/lib/python3.10/dist-packages (from matplotlib>=1.4.0->scikit-plot) (9.4.0)\n",
            "Requirement already satisfied: pyparsing>=2.3.1 in /usr/local/lib/python3.10/dist-packages (from matplotlib>=1.4.0->scikit-plot) (3.1.2)\n",
            "Requirement already satisfied: python-dateutil>=2.7 in /usr/local/lib/python3.10/dist-packages (from matplotlib>=1.4.0->scikit-plot) (2.8.2)\n",
            "Requirement already satisfied: threadpoolctl>=2.0.0 in /usr/local/lib/python3.10/dist-packages (from scikit-learn>=0.18->scikit-plot) (3.4.0)\n",
            "Requirement already satisfied: six>=1.5 in /usr/local/lib/python3.10/dist-packages (from python-dateutil>=2.7->matplotlib>=1.4.0->scikit-plot) (1.16.0)\n",
            "Installing collected packages: scikit-plot\n",
            "Successfully installed scikit-plot-0.3.7\n"
          ]
        }
      ],
      "source": [
        "# Create a confusion matrix\n",
        "!pip install scikit-plot\n",
        "from sklearn.metrics import confusion_matrix\n",
        "import scikitplot\n",
        "\n",
        "# Make predictions\n",
        "def make_preds(model):\n",
        "    label_pred = model.predict(np.array(testing_data))\n",
        "\n",
        "    def one_hot_highest(arr):\n",
        "        for val in arr:\n",
        "            max_val = max(val)\n",
        "            for i in range(len(val)):\n",
        "                if val[i] == max_val:\n",
        "                    val[i] = 1\n",
        "                else:\n",
        "                    val[i] = 0\n",
        "        return arr\n",
        "\n",
        "    arr=one_hot_highest(label_preds)\n",
        "    arr2= one_hot_highest(testing_labels)\n",
        "\n",
        "    labelE=[]\n",
        "    for i in range (0, len(arr)):\n",
        "        flag=0\n",
        "        for j in range (0,9):\n",
        "            if arr[i][j]==1:\n",
        "                labelE.append(j)\n",
        "                flag=1\n",
        "    labelEtest=[]\n",
        "    for i in range (0, len(arr2)):\n",
        "        for j in range (0,9):\n",
        "            if arr2[i][j]==1:\n",
        "                labelEtest.append(j)\n",
        "\n",
        "    scikitplot.metrics.plot_confusion_matrix(labelEtest,labelE)"
      ]
    },
    {
      "cell_type": "code",
      "execution_count": null,
      "metadata": {
        "colab": {
          "base_uri": "https://localhost:8080/",
          "height": 489
        },
        "id": "n0pvnZctkAM4",
        "outputId": "46495c16-1fba-420a-af8a-e62ba7242648"
      },
      "outputs": [
        {
          "output_type": "stream",
          "name": "stdout",
          "text": [
            "6/6 [==============================] - 1s 90ms/step\n"
          ]
        },
        {
          "output_type": "display_data",
          "data": {
            "text/plain": [
              "<Figure size 640x480 with 2 Axes>"
            ],
            "image/png": "[encoded data removed]"
          },
          "metadata": {}
        }
      ],
      "source": [
        "make_preds(model_cnn)"
      ]
    }
  ],
  "metadata": {
    "accelerator": "GPU",
    "colab": {
      "gpuType": "T4",
      "provenance": []
    },
    "kernelspec": {
      "display_name": "Python 3",
      "name": "python3"
    },
    "language_info": {
      "name": "python"
    }
  },
  "nbformat": 4,
  "nbformat_minor": 0
}