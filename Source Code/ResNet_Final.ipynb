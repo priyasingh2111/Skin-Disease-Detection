{
  "cells": [
    {
      "cell_type": "code",
      "execution_count": null,
      "metadata": {
        "id": "kxMoMrbeZghp"
      },
      "outputs": [],
      "source": [
        "import numpy as np\n",
        "from tensorflow.keras.optimizers import Adam\n",
        "from keras.layers import Activation, Dropout, Convolution2D, GlobalAveragePooling2D, ReLU, BatchNormalization, Add, ZeroPadding2D, Input\n",
        "from keras.models import Sequential\n",
        "import tensorflow as tf\n",
        "import os"
      ]
    },
    {
      "cell_type": "code",
      "execution_count": null,
      "metadata": {
        "colab": {
          "base_uri": "https://localhost:8080/"
        },
        "id": "4DILL3sn_5IU",
        "outputId": "8c26c83b-c869-4163-c6be-c7346ccb3115"
      },
      "outputs": [
        {
          "output_type": "stream",
          "name": "stdout",
          "text": [
            "Mounted at /content/drive\n"
          ]
        }
      ],
      "source": [
        "from google.colab import drive\n",
        "drive.mount('/content/drive')"
      ]
    },
    {
      "cell_type": "code",
      "execution_count": null,
      "metadata": {
        "id": "x7Wib1Q62avo"
      },
      "outputs": [],
      "source": [
        "!unzip /content/drive/MyDrive/CV_dataset/archive.zip -d /content/"
      ]
    },
    {
      "cell_type": "markdown",
      "source": [
        "## Preprocessing"
      ],
      "metadata": {
        "id": "sFf7DF5-88fa"
      }
    },
    {
      "cell_type": "code",
      "execution_count": null,
      "metadata": {
        "id": "qcxQzq3laFdr"
      },
      "outputs": [],
      "source": [
        "IMG_SAVE_PATH = r'/content/Split_smol/train'"
      ]
    },
    {
      "cell_type": "code",
      "execution_count": null,
      "metadata": {
        "id": "YbAs-l5eaFgP"
      },
      "outputs": [],
      "source": [
        "ENCODINGS = {\n",
        "    'Actinic keratosis': 0,\n",
        "    'Atopic Dermatitis': 1,\n",
        "    'Benign keratosis': 2,\n",
        "    'Dermatofibroma': 3,\n",
        "    'Melanocytic nevus': 4,\n",
        "    'Melanoma':5,\n",
        "    'Squamous cell carcinoma': 6,\n",
        "    'Tinea Ringworm Candidiasis':7,\n",
        "    'Vascular lesion': 8\n",
        "}\n",
        "\n",
        "NUM_CLASSES = 9\n",
        "\n",
        "\n",
        "def str_to_Int_mapper(val):\n",
        "    return ENCODINGS[val]"
      ]
    },
    {
      "cell_type": "code",
      "execution_count": null,
      "metadata": {
        "id": "MLb9eOuPaFiy"
      },
      "outputs": [],
      "source": [
        "import PIL\n",
        "import cv2\n",
        "\n",
        "dataset = []\n",
        "for directory in os.listdir(IMG_SAVE_PATH):\n",
        "    path = os.path.join(IMG_SAVE_PATH, directory)\n",
        "    for image in os.listdir(path):\n",
        "        new_path = os.path.join(path, image)\n",
        "        try:\n",
        "            imgpath=PIL.Image.open(new_path)\n",
        "            imgpath = imgpath.convert('RGB')\n",
        "            img = np.asarray(imgpath)\n",
        "            img = cv2.resize(img, (224, 224))\n",
        "            img = img/255.\n",
        "            dataset.append([img, directory])\n",
        "        except FileNotFoundError:\n",
        "            print('Image file not found. Skipping...')"
      ]
    },
    {
      "cell_type": "code",
      "execution_count": null,
      "metadata": {
        "id": "PYuLBGPVaFlf"
      },
      "outputs": [],
      "source": [
        "data, labels = zip(*dataset)\n",
        "temp = list(map(str_to_Int_mapper, labels))"
      ]
    },
    {
      "cell_type": "code",
      "execution_count": null,
      "metadata": {
        "id": "ERZ8cYpaaFoO"
      },
      "outputs": [],
      "source": [
        "import keras\n",
        "labels = keras.utils.to_categorical(temp)"
      ]
    },
    {
      "cell_type": "code",
      "execution_count": null,
      "metadata": {
        "colab": {
          "base_uri": "https://localhost:8080/"
        },
        "id": "CWW_kqaPaFq3",
        "outputId": "27f6b272-0fe5-49df-8ada-6d924502fee5"
      },
      "outputs": [
        {
          "output_type": "stream",
          "name": "stdout",
          "text": [
            "697\n"
          ]
        }
      ],
      "source": [
        "count=0\n",
        "for i in data:\n",
        "    if i.shape!=(240, 240, 3):\n",
        "        count=count+1\n",
        "print(count)"
      ]
    },
    {
      "cell_type": "markdown",
      "metadata": {
        "id": "XXbcTKF4LUZL"
      },
      "source": [
        "## Skip Connections"
      ]
    },
    {
      "cell_type": "code",
      "execution_count": null,
      "metadata": {
        "id": "amcARLcvHbj6"
      },
      "outputs": [],
      "source": [
        "def identity_block(x, filter):\n",
        "    x_skip = x\n",
        "    x = Convolution2D(filter, kernel_size = 3, padding=\"same\")(x)\n",
        "    x = BatchNormalization(axis=3)(x)\n",
        "    x = ReLU()(x)\n",
        "\n",
        "    x = Convolution2D(filter, kernel_size = 3, padding=\"same\")(x)\n",
        "    x = BatchNormalization(axis=3)(x)\n",
        "\n",
        "    x = Add()([x, x_skip])\n",
        "    x = ReLU()(x)\n",
        "    return x\n",
        "\n",
        "\n",
        "def conv_block(x, filter):\n",
        "    x_skip = x\n",
        "    x = Convolution2D(filter, kernel_size = 3, padding=\"same\", strides = 2)(x)\n",
        "    x = BatchNormalization(axis=3)(x)\n",
        "    x = ReLU()(x)\n",
        "\n",
        "    x = Convolution2D(filter, kernel_size = 3, padding=\"same\")(x)\n",
        "    x = BatchNormalization(axis=3)(x)\n",
        "\n",
        "    x_skip = Convolution2D(filter, kernel_size=1, strides = 2)(x_skip)\n",
        "\n",
        "    x = Add()([x, x_skip])\n",
        "    x = ReLU()(x)\n",
        "    return x"
      ]
    },
    {
      "cell_type": "markdown",
      "source": [
        "### ResNet 34"
      ],
      "metadata": {
        "id": "bw-Q8i0S9oc_"
      }
    },
    {
      "cell_type": "code",
      "execution_count": null,
      "metadata": {
        "id": "MDv6QiWYFk1F"
      },
      "outputs": [],
      "source": [
        "block_layer_size_34 = [3, 4, 6, 3]\n",
        "def resnet34(shape):\n",
        "    x_input = Input(shape)\n",
        "    # x = ZeroPadding2D((3, 3))(x_input)\n",
        "    x = tf.keras.layers.Conv2D(64, kernel_size=7, strides=2, padding=\"same\")(x_input)\n",
        "    x = BatchNormalization()(x)\n",
        "    x = ReLU()(x)\n",
        "    x = MaxPooling2D(pool_size=3, strides=2, padding=\"same\")(x)\n",
        "\n",
        "    filter_size = 64\n",
        "    for i in range(len(block_layer_size_34)):\n",
        "        if i == 0:\n",
        "            # For sub-block 1 Residual/Convolutional block not needed\n",
        "            for j in range(block_layer_size_34[i]):\n",
        "                x = identity_block(x, filter_size)\n",
        "        else:\n",
        "            # One Residual/Convolutional Block followed by Identity blocks\n",
        "            # The filter size will go on increasing by a factor of 2\n",
        "            filter_size = filter_size*2\n",
        "            x = conv_block(x, filter_size)\n",
        "            for j in range(block_layer_size_34[i] - 1):\n",
        "                x = identity_block(x, filter_size)\n",
        "    # Step 4 End Dense Network\n",
        "    x = tf.keras.layers.AveragePooling2D((2,2), padding = 'same')(x)\n",
        "    x = tf.keras.layers.Flatten()(x)\n",
        "    x = tf.keras.layers.Dense(512, activation = 'relu')(x)\n",
        "    x = tf.keras.layers.Dense(NUM_CLASSES, activation = 'softmax')(x)\n",
        "    model = tf.keras.models.Model(inputs = x_input, outputs = x, name = \"ResNet34\")\n",
        "    return model\n"
      ]
    },
    {
      "cell_type": "markdown",
      "source": [
        "### ResNet 18"
      ],
      "metadata": {
        "id": "04YYQEQI9qRG"
      }
    },
    {
      "cell_type": "code",
      "execution_count": null,
      "metadata": {
        "id": "Q2oB1ZDKPdIr"
      },
      "outputs": [],
      "source": [
        "block_layer_size_18 = [2, 2, 2, 2]\n",
        "def resnet18(shape):\n",
        "    x_input = Input(shape)\n",
        "    x = tf.keras.layers.Conv2D(64, kernel_size=7, strides=2, padding=\"same\")(x_input)\n",
        "    x = BatchNormalization()(x)\n",
        "    x = ReLU()(x)\n",
        "    x = MaxPooling2D(pool_size=3, strides=2, padding=\"same\")(x)\n",
        "\n",
        "    filter_size = 64\n",
        "    for i in range(len(block_layer_size_18)):\n",
        "        if i == 0:\n",
        "            # For sub-block 1 Residual/Convolutional block not needed\n",
        "            for j in range(block_layer_size_18[i]):\n",
        "                x = identity_block(x, filter_size)\n",
        "        else:\n",
        "            # One Residual/Convolutional Block followed by Identity blocks\n",
        "            # The filter size will go on increasing by a factor of 2\n",
        "            filter_size = filter_size*2\n",
        "            x = conv_block(x, filter_size)\n",
        "            for j in range(block_layer_size_18[i] - 1):\n",
        "                x = identity_block(x, filter_size)\n",
        "    # Step 4 End Dense Network\n",
        "    x = tf.keras.layers.AveragePooling2D((2,2), padding = 'same')(x)\n",
        "    x = tf.keras.layers.Flatten()(x)\n",
        "    x = tf.keras.layers.Dense(512, activation = 'relu')(x)\n",
        "    x = tf.keras.layers.Dense(NUM_CLASSES, activation = 'softmax')(x)\n",
        "    model = tf.keras.models.Model(inputs = x_input, outputs = x, name = \"ResNet34\")\n",
        "    return model\n"
      ]
    },
    {
      "cell_type": "code",
      "execution_count": null,
      "metadata": {
        "id": "XcjI9LVZaFwZ"
      },
      "outputs": [],
      "source": [
        "from keras.layers import Dense , Dropout , Conv2D , MaxPooling2D, Flatten\n",
        "model_cnn_res34 = resnet34((224, 224, 3))\n",
        "model_cnn_res34.compile(\n",
        "    optimizer=Adam(learning_rate=0.009),         # lr = learning_rate\n",
        "    loss='categorical_crossentropy',            # Multi-class classification\n",
        "    metrics=['accuracy'],\n",
        ")"
      ]
    },
    {
      "cell_type": "code",
      "execution_count": null,
      "metadata": {
        "id": "jrHrgqM-Ro5n"
      },
      "outputs": [],
      "source": [
        "from keras.layers import Dense , Dropout , Conv2D , MaxPooling2D, Flatten\n",
        "model_cnn_res18 = resnet18((224, 224, 3))\n",
        "model_cnn_res18.compile(\n",
        "    optimizer=Adam(learning_rate=0.003),          # lr = learning_rate\n",
        "    loss='categorical_crossentropy',              # Multi-class classification\n",
        "    metrics=['accuracy']\n",
        ")"
      ]
    },
    {
      "cell_type": "code",
      "execution_count": null,
      "metadata": {
        "colab": {
          "base_uri": "https://localhost:8080/"
        },
        "id": "BKaCBzXGaFy7",
        "outputId": "d252f203-809e-4674-b22a-d623af3ae017"
      },
      "outputs": [
        {
          "output_type": "stream",
          "name": "stdout",
          "text": [
            "Model: \"ResNet34\"\n",
            "__________________________________________________________________________________________________\n",
            " Layer (type)                Output Shape                 Param #   Connected to                  \n",
            "==================================================================================================\n",
            " input_2 (InputLayer)        [(None, 224, 224, 3)]        0         []                            \n",
            "                                                                                                  \n",
            " conv2d_36 (Conv2D)          (None, 112, 112, 64)         9472      ['input_2[0][0]']             \n",
            "                                                                                                  \n",
            " batch_normalization_33 (Ba  (None, 112, 112, 64)         256       ['conv2d_36[0][0]']           \n",
            " tchNormalization)                                                                                \n",
            "                                                                                                  \n",
            " re_lu_33 (ReLU)             (None, 112, 112, 64)         0         ['batch_normalization_33[0][0]\n",
            "                                                                    ']                            \n",
            "                                                                                                  \n",
            " max_pooling2d_1 (MaxPoolin  (None, 56, 56, 64)           0         ['re_lu_33[0][0]']            \n",
            " g2D)                                                                                             \n",
            "                                                                                                  \n",
            " conv2d_37 (Conv2D)          (None, 56, 56, 64)           36928     ['max_pooling2d_1[0][0]']     \n",
            "                                                                                                  \n",
            " batch_normalization_34 (Ba  (None, 56, 56, 64)           256       ['conv2d_37[0][0]']           \n",
            " tchNormalization)                                                                                \n",
            "                                                                                                  \n",
            " re_lu_34 (ReLU)             (None, 56, 56, 64)           0         ['batch_normalization_34[0][0]\n",
            "                                                                    ']                            \n",
            "                                                                                                  \n",
            " conv2d_38 (Conv2D)          (None, 56, 56, 64)           36928     ['re_lu_34[0][0]']            \n",
            "                                                                                                  \n",
            " batch_normalization_35 (Ba  (None, 56, 56, 64)           256       ['conv2d_38[0][0]']           \n",
            " tchNormalization)                                                                                \n",
            "                                                                                                  \n",
            " add_16 (Add)                (None, 56, 56, 64)           0         ['batch_normalization_35[0][0]\n",
            "                                                                    ',                            \n",
            "                                                                     'max_pooling2d_1[0][0]']     \n",
            "                                                                                                  \n",
            " re_lu_35 (ReLU)             (None, 56, 56, 64)           0         ['add_16[0][0]']              \n",
            "                                                                                                  \n",
            " conv2d_39 (Conv2D)          (None, 56, 56, 64)           36928     ['re_lu_35[0][0]']            \n",
            "                                                                                                  \n",
            " batch_normalization_36 (Ba  (None, 56, 56, 64)           256       ['conv2d_39[0][0]']           \n",
            " tchNormalization)                                                                                \n",
            "                                                                                                  \n",
            " re_lu_36 (ReLU)             (None, 56, 56, 64)           0         ['batch_normalization_36[0][0]\n",
            "                                                                    ']                            \n",
            "                                                                                                  \n",
            " conv2d_40 (Conv2D)          (None, 56, 56, 64)           36928     ['re_lu_36[0][0]']            \n",
            "                                                                                                  \n",
            " batch_normalization_37 (Ba  (None, 56, 56, 64)           256       ['conv2d_40[0][0]']           \n",
            " tchNormalization)                                                                                \n",
            "                                                                                                  \n",
            " add_17 (Add)                (None, 56, 56, 64)           0         ['batch_normalization_37[0][0]\n",
            "                                                                    ',                            \n",
            "                                                                     're_lu_35[0][0]']            \n",
            "                                                                                                  \n",
            " re_lu_37 (ReLU)             (None, 56, 56, 64)           0         ['add_17[0][0]']              \n",
            "                                                                                                  \n",
            " conv2d_41 (Conv2D)          (None, 56, 56, 64)           36928     ['re_lu_37[0][0]']            \n",
            "                                                                                                  \n",
            " batch_normalization_38 (Ba  (None, 56, 56, 64)           256       ['conv2d_41[0][0]']           \n",
            " tchNormalization)                                                                                \n",
            "                                                                                                  \n",
            " re_lu_38 (ReLU)             (None, 56, 56, 64)           0         ['batch_normalization_38[0][0]\n",
            "                                                                    ']                            \n",
            "                                                                                                  \n",
            " conv2d_42 (Conv2D)          (None, 56, 56, 64)           36928     ['re_lu_38[0][0]']            \n",
            "                                                                                                  \n",
            " batch_normalization_39 (Ba  (None, 56, 56, 64)           256       ['conv2d_42[0][0]']           \n",
            " tchNormalization)                                                                                \n",
            "                                                                                                  \n",
            " add_18 (Add)                (None, 56, 56, 64)           0         ['batch_normalization_39[0][0]\n",
            "                                                                    ',                            \n",
            "                                                                     're_lu_37[0][0]']            \n",
            "                                                                                                  \n",
            " re_lu_39 (ReLU)             (None, 56, 56, 64)           0         ['add_18[0][0]']              \n",
            "                                                                                                  \n",
            " conv2d_43 (Conv2D)          (None, 28, 28, 128)          73856     ['re_lu_39[0][0]']            \n",
            "                                                                                                  \n",
            " batch_normalization_40 (Ba  (None, 28, 28, 128)          512       ['conv2d_43[0][0]']           \n",
            " tchNormalization)                                                                                \n",
            "                                                                                                  \n",
            " re_lu_40 (ReLU)             (None, 28, 28, 128)          0         ['batch_normalization_40[0][0]\n",
            "                                                                    ']                            \n",
            "                                                                                                  \n",
            " conv2d_44 (Conv2D)          (None, 28, 28, 128)          147584    ['re_lu_40[0][0]']            \n",
            "                                                                                                  \n",
            " batch_normalization_41 (Ba  (None, 28, 28, 128)          512       ['conv2d_44[0][0]']           \n",
            " tchNormalization)                                                                                \n",
            "                                                                                                  \n",
            " conv2d_45 (Conv2D)          (None, 28, 28, 128)          8320      ['re_lu_39[0][0]']            \n",
            "                                                                                                  \n",
            " add_19 (Add)                (None, 28, 28, 128)          0         ['batch_normalization_41[0][0]\n",
            "                                                                    ',                            \n",
            "                                                                     'conv2d_45[0][0]']           \n",
            "                                                                                                  \n",
            " re_lu_41 (ReLU)             (None, 28, 28, 128)          0         ['add_19[0][0]']              \n",
            "                                                                                                  \n",
            " conv2d_46 (Conv2D)          (None, 28, 28, 128)          147584    ['re_lu_41[0][0]']            \n",
            "                                                                                                  \n",
            " batch_normalization_42 (Ba  (None, 28, 28, 128)          512       ['conv2d_46[0][0]']           \n",
            " tchNormalization)                                                                                \n",
            "                                                                                                  \n",
            " re_lu_42 (ReLU)             (None, 28, 28, 128)          0         ['batch_normalization_42[0][0]\n",
            "                                                                    ']                            \n",
            "                                                                                                  \n",
            " conv2d_47 (Conv2D)          (None, 28, 28, 128)          147584    ['re_lu_42[0][0]']            \n",
            "                                                                                                  \n",
            " batch_normalization_43 (Ba  (None, 28, 28, 128)          512       ['conv2d_47[0][0]']           \n",
            " tchNormalization)                                                                                \n",
            "                                                                                                  \n",
            " add_20 (Add)                (None, 28, 28, 128)          0         ['batch_normalization_43[0][0]\n",
            "                                                                    ',                            \n",
            "                                                                     're_lu_41[0][0]']            \n",
            "                                                                                                  \n",
            " re_lu_43 (ReLU)             (None, 28, 28, 128)          0         ['add_20[0][0]']              \n",
            "                                                                                                  \n",
            " conv2d_48 (Conv2D)          (None, 28, 28, 128)          147584    ['re_lu_43[0][0]']            \n",
            "                                                                                                  \n",
            " batch_normalization_44 (Ba  (None, 28, 28, 128)          512       ['conv2d_48[0][0]']           \n",
            " tchNormalization)                                                                                \n",
            "                                                                                                  \n",
            " re_lu_44 (ReLU)             (None, 28, 28, 128)          0         ['batch_normalization_44[0][0]\n",
            "                                                                    ']                            \n",
            "                                                                                                  \n",
            " conv2d_49 (Conv2D)          (None, 28, 28, 128)          147584    ['re_lu_44[0][0]']            \n",
            "                                                                                                  \n",
            " batch_normalization_45 (Ba  (None, 28, 28, 128)          512       ['conv2d_49[0][0]']           \n",
            " tchNormalization)                                                                                \n",
            "                                                                                                  \n",
            " add_21 (Add)                (None, 28, 28, 128)          0         ['batch_normalization_45[0][0]\n",
            "                                                                    ',                            \n",
            "                                                                     're_lu_43[0][0]']            \n",
            "                                                                                                  \n",
            " re_lu_45 (ReLU)             (None, 28, 28, 128)          0         ['add_21[0][0]']              \n",
            "                                                                                                  \n",
            " conv2d_50 (Conv2D)          (None, 28, 28, 128)          147584    ['re_lu_45[0][0]']            \n",
            "                                                                                                  \n",
            " batch_normalization_46 (Ba  (None, 28, 28, 128)          512       ['conv2d_50[0][0]']           \n",
            " tchNormalization)                                                                                \n",
            "                                                                                                  \n",
            " re_lu_46 (ReLU)             (None, 28, 28, 128)          0         ['batch_normalization_46[0][0]\n",
            "                                                                    ']                            \n",
            "                                                                                                  \n",
            " conv2d_51 (Conv2D)          (None, 28, 28, 128)          147584    ['re_lu_46[0][0]']            \n",
            "                                                                                                  \n",
            " batch_normalization_47 (Ba  (None, 28, 28, 128)          512       ['conv2d_51[0][0]']           \n",
            " tchNormalization)                                                                                \n",
            "                                                                                                  \n",
            " add_22 (Add)                (None, 28, 28, 128)          0         ['batch_normalization_47[0][0]\n",
            "                                                                    ',                            \n",
            "                                                                     're_lu_45[0][0]']            \n",
            "                                                                                                  \n",
            " re_lu_47 (ReLU)             (None, 28, 28, 128)          0         ['add_22[0][0]']              \n",
            "                                                                                                  \n",
            " conv2d_52 (Conv2D)          (None, 14, 14, 256)          295168    ['re_lu_47[0][0]']            \n",
            "                                                                                                  \n",
            " batch_normalization_48 (Ba  (None, 14, 14, 256)          1024      ['conv2d_52[0][0]']           \n",
            " tchNormalization)                                                                                \n",
            "                                                                                                  \n",
            " re_lu_48 (ReLU)             (None, 14, 14, 256)          0         ['batch_normalization_48[0][0]\n",
            "                                                                    ']                            \n",
            "                                                                                                  \n",
            " conv2d_53 (Conv2D)          (None, 14, 14, 256)          590080    ['re_lu_48[0][0]']            \n",
            "                                                                                                  \n",
            " batch_normalization_49 (Ba  (None, 14, 14, 256)          1024      ['conv2d_53[0][0]']           \n",
            " tchNormalization)                                                                                \n",
            "                                                                                                  \n",
            " conv2d_54 (Conv2D)          (None, 14, 14, 256)          33024     ['re_lu_47[0][0]']            \n",
            "                                                                                                  \n",
            " add_23 (Add)                (None, 14, 14, 256)          0         ['batch_normalization_49[0][0]\n",
            "                                                                    ',                            \n",
            "                                                                     'conv2d_54[0][0]']           \n",
            "                                                                                                  \n",
            " re_lu_49 (ReLU)             (None, 14, 14, 256)          0         ['add_23[0][0]']              \n",
            "                                                                                                  \n",
            " conv2d_55 (Conv2D)          (None, 14, 14, 256)          590080    ['re_lu_49[0][0]']            \n",
            "                                                                                                  \n",
            " batch_normalization_50 (Ba  (None, 14, 14, 256)          1024      ['conv2d_55[0][0]']           \n",
            " tchNormalization)                                                                                \n",
            "                                                                                                  \n",
            " re_lu_50 (ReLU)             (None, 14, 14, 256)          0         ['batch_normalization_50[0][0]\n",
            "                                                                    ']                            \n",
            "                                                                                                  \n",
            " conv2d_56 (Conv2D)          (None, 14, 14, 256)          590080    ['re_lu_50[0][0]']            \n",
            "                                                                                                  \n",
            " batch_normalization_51 (Ba  (None, 14, 14, 256)          1024      ['conv2d_56[0][0]']           \n",
            " tchNormalization)                                                                                \n",
            "                                                                                                  \n",
            " add_24 (Add)                (None, 14, 14, 256)          0         ['batch_normalization_51[0][0]\n",
            "                                                                    ',                            \n",
            "                                                                     're_lu_49[0][0]']            \n",
            "                                                                                                  \n",
            " re_lu_51 (ReLU)             (None, 14, 14, 256)          0         ['add_24[0][0]']              \n",
            "                                                                                                  \n",
            " conv2d_57 (Conv2D)          (None, 14, 14, 256)          590080    ['re_lu_51[0][0]']            \n",
            "                                                                                                  \n",
            " batch_normalization_52 (Ba  (None, 14, 14, 256)          1024      ['conv2d_57[0][0]']           \n",
            " tchNormalization)                                                                                \n",
            "                                                                                                  \n",
            " re_lu_52 (ReLU)             (None, 14, 14, 256)          0         ['batch_normalization_52[0][0]\n",
            "                                                                    ']                            \n",
            "                                                                                                  \n",
            " conv2d_58 (Conv2D)          (None, 14, 14, 256)          590080    ['re_lu_52[0][0]']            \n",
            "                                                                                                  \n",
            " batch_normalization_53 (Ba  (None, 14, 14, 256)          1024      ['conv2d_58[0][0]']           \n",
            " tchNormalization)                                                                                \n",
            "                                                                                                  \n",
            " add_25 (Add)                (None, 14, 14, 256)          0         ['batch_normalization_53[0][0]\n",
            "                                                                    ',                            \n",
            "                                                                     're_lu_51[0][0]']            \n",
            "                                                                                                  \n",
            " re_lu_53 (ReLU)             (None, 14, 14, 256)          0         ['add_25[0][0]']              \n",
            "                                                                                                  \n",
            " conv2d_59 (Conv2D)          (None, 14, 14, 256)          590080    ['re_lu_53[0][0]']            \n",
            "                                                                                                  \n",
            " batch_normalization_54 (Ba  (None, 14, 14, 256)          1024      ['conv2d_59[0][0]']           \n",
            " tchNormalization)                                                                                \n",
            "                                                                                                  \n",
            " re_lu_54 (ReLU)             (None, 14, 14, 256)          0         ['batch_normalization_54[0][0]\n",
            "                                                                    ']                            \n",
            "                                                                                                  \n",
            " conv2d_60 (Conv2D)          (None, 14, 14, 256)          590080    ['re_lu_54[0][0]']            \n",
            "                                                                                                  \n",
            " batch_normalization_55 (Ba  (None, 14, 14, 256)          1024      ['conv2d_60[0][0]']           \n",
            " tchNormalization)                                                                                \n",
            "                                                                                                  \n",
            " add_26 (Add)                (None, 14, 14, 256)          0         ['batch_normalization_55[0][0]\n",
            "                                                                    ',                            \n",
            "                                                                     're_lu_53[0][0]']            \n",
            "                                                                                                  \n",
            " re_lu_55 (ReLU)             (None, 14, 14, 256)          0         ['add_26[0][0]']              \n",
            "                                                                                                  \n",
            " conv2d_61 (Conv2D)          (None, 14, 14, 256)          590080    ['re_lu_55[0][0]']            \n",
            "                                                                                                  \n",
            " batch_normalization_56 (Ba  (None, 14, 14, 256)          1024      ['conv2d_61[0][0]']           \n",
            " tchNormalization)                                                                                \n",
            "                                                                                                  \n",
            " re_lu_56 (ReLU)             (None, 14, 14, 256)          0         ['batch_normalization_56[0][0]\n",
            "                                                                    ']                            \n",
            "                                                                                                  \n",
            " conv2d_62 (Conv2D)          (None, 14, 14, 256)          590080    ['re_lu_56[0][0]']            \n",
            "                                                                                                  \n",
            " batch_normalization_57 (Ba  (None, 14, 14, 256)          1024      ['conv2d_62[0][0]']           \n",
            " tchNormalization)                                                                                \n",
            "                                                                                                  \n",
            " add_27 (Add)                (None, 14, 14, 256)          0         ['batch_normalization_57[0][0]\n",
            "                                                                    ',                            \n",
            "                                                                     're_lu_55[0][0]']            \n",
            "                                                                                                  \n",
            " re_lu_57 (ReLU)             (None, 14, 14, 256)          0         ['add_27[0][0]']              \n",
            "                                                                                                  \n",
            " conv2d_63 (Conv2D)          (None, 14, 14, 256)          590080    ['re_lu_57[0][0]']            \n",
            "                                                                                                  \n",
            " batch_normalization_58 (Ba  (None, 14, 14, 256)          1024      ['conv2d_63[0][0]']           \n",
            " tchNormalization)                                                                                \n",
            "                                                                                                  \n",
            " re_lu_58 (ReLU)             (None, 14, 14, 256)          0         ['batch_normalization_58[0][0]\n",
            "                                                                    ']                            \n",
            "                                                                                                  \n",
            " conv2d_64 (Conv2D)          (None, 14, 14, 256)          590080    ['re_lu_58[0][0]']            \n",
            "                                                                                                  \n",
            " batch_normalization_59 (Ba  (None, 14, 14, 256)          1024      ['conv2d_64[0][0]']           \n",
            " tchNormalization)                                                                                \n",
            "                                                                                                  \n",
            " add_28 (Add)                (None, 14, 14, 256)          0         ['batch_normalization_59[0][0]\n",
            "                                                                    ',                            \n",
            "                                                                     're_lu_57[0][0]']            \n",
            "                                                                                                  \n",
            " re_lu_59 (ReLU)             (None, 14, 14, 256)          0         ['add_28[0][0]']              \n",
            "                                                                                                  \n",
            " conv2d_65 (Conv2D)          (None, 7, 7, 512)            1180160   ['re_lu_59[0][0]']            \n",
            "                                                                                                  \n",
            " batch_normalization_60 (Ba  (None, 7, 7, 512)            2048      ['conv2d_65[0][0]']           \n",
            " tchNormalization)                                                                                \n",
            "                                                                                                  \n",
            " re_lu_60 (ReLU)             (None, 7, 7, 512)            0         ['batch_normalization_60[0][0]\n",
            "                                                                    ']                            \n",
            "                                                                                                  \n",
            " conv2d_66 (Conv2D)          (None, 7, 7, 512)            2359808   ['re_lu_60[0][0]']            \n",
            "                                                                                                  \n",
            " batch_normalization_61 (Ba  (None, 7, 7, 512)            2048      ['conv2d_66[0][0]']           \n",
            " tchNormalization)                                                                                \n",
            "                                                                                                  \n",
            " conv2d_67 (Conv2D)          (None, 7, 7, 512)            131584    ['re_lu_59[0][0]']            \n",
            "                                                                                                  \n",
            " add_29 (Add)                (None, 7, 7, 512)            0         ['batch_normalization_61[0][0]\n",
            "                                                                    ',                            \n",
            "                                                                     'conv2d_67[0][0]']           \n",
            "                                                                                                  \n",
            " re_lu_61 (ReLU)             (None, 7, 7, 512)            0         ['add_29[0][0]']              \n",
            "                                                                                                  \n",
            " conv2d_68 (Conv2D)          (None, 7, 7, 512)            2359808   ['re_lu_61[0][0]']            \n",
            "                                                                                                  \n",
            " batch_normalization_62 (Ba  (None, 7, 7, 512)            2048      ['conv2d_68[0][0]']           \n",
            " tchNormalization)                                                                                \n",
            "                                                                                                  \n",
            " re_lu_62 (ReLU)             (None, 7, 7, 512)            0         ['batch_normalization_62[0][0]\n",
            "                                                                    ']                            \n",
            "                                                                                                  \n",
            " conv2d_69 (Conv2D)          (None, 7, 7, 512)            2359808   ['re_lu_62[0][0]']            \n",
            "                                                                                                  \n",
            " batch_normalization_63 (Ba  (None, 7, 7, 512)            2048      ['conv2d_69[0][0]']           \n",
            " tchNormalization)                                                                                \n",
            "                                                                                                  \n",
            " add_30 (Add)                (None, 7, 7, 512)            0         ['batch_normalization_63[0][0]\n",
            "                                                                    ',                            \n",
            "                                                                     're_lu_61[0][0]']            \n",
            "                                                                                                  \n",
            " re_lu_63 (ReLU)             (None, 7, 7, 512)            0         ['add_30[0][0]']              \n",
            "                                                                                                  \n",
            " conv2d_70 (Conv2D)          (None, 7, 7, 512)            2359808   ['re_lu_63[0][0]']            \n",
            "                                                                                                  \n",
            " batch_normalization_64 (Ba  (None, 7, 7, 512)            2048      ['conv2d_70[0][0]']           \n",
            " tchNormalization)                                                                                \n",
            "                                                                                                  \n",
            " re_lu_64 (ReLU)             (None, 7, 7, 512)            0         ['batch_normalization_64[0][0]\n",
            "                                                                    ']                            \n",
            "                                                                                                  \n",
            " conv2d_71 (Conv2D)          (None, 7, 7, 512)            2359808   ['re_lu_64[0][0]']            \n",
            "                                                                                                  \n",
            " batch_normalization_65 (Ba  (None, 7, 7, 512)            2048      ['conv2d_71[0][0]']           \n",
            " tchNormalization)                                                                                \n",
            "                                                                                                  \n",
            " add_31 (Add)                (None, 7, 7, 512)            0         ['batch_normalization_65[0][0]\n",
            "                                                                    ',                            \n",
            "                                                                     're_lu_63[0][0]']            \n",
            "                                                                                                  \n",
            " re_lu_65 (ReLU)             (None, 7, 7, 512)            0         ['add_31[0][0]']              \n",
            "                                                                                                  \n",
            " average_pooling2d_1 (Avera  (None, 4, 4, 512)            0         ['re_lu_65[0][0]']            \n",
            " gePooling2D)                                                                                     \n",
            "                                                                                                  \n",
            " flatten_1 (Flatten)         (None, 8192)                 0         ['average_pooling2d_1[0][0]'] \n",
            "                                                                                                  \n",
            " dense_2 (Dense)             (None, 512)                  4194816   ['flatten_1[0][0]']           \n",
            "                                                                                                  \n",
            " dense_3 (Dense)             (None, 9)                    4617      ['dense_2[0][0]']             \n",
            "                                                                                                  \n",
            "==================================================================================================\n",
            "Total params: 25506057 (97.30 MB)\n",
            "Trainable params: 25490825 (97.24 MB)\n",
            "Non-trainable params: 15232 (59.50 KB)\n",
            "__________________________________________________________________________________________________\n"
          ]
        }
      ],
      "source": [
        "model_cnn_res34.summary()"
      ]
    },
    {
      "cell_type": "code",
      "execution_count": null,
      "metadata": {
        "colab": {
          "base_uri": "https://localhost:8080/"
        },
        "id": "DvVJNplUV7LA",
        "outputId": "d793215a-afba-473f-92ad-1a064f637f36"
      },
      "outputs": [
        {
          "output_type": "stream",
          "name": "stdout",
          "text": [
            "Model: \"ResNet34\"\n",
            "__________________________________________________________________________________________________\n",
            " Layer (type)                Output Shape                 Param #   Connected to                  \n",
            "==================================================================================================\n",
            " input_3 (InputLayer)        [(None, 224, 224, 3)]        0         []                            \n",
            "                                                                                                  \n",
            " conv2d_72 (Conv2D)          (None, 112, 112, 64)         9472      ['input_3[0][0]']             \n",
            "                                                                                                  \n",
            " batch_normalization_66 (Ba  (None, 112, 112, 64)         256       ['conv2d_72[0][0]']           \n",
            " tchNormalization)                                                                                \n",
            "                                                                                                  \n",
            " re_lu_66 (ReLU)             (None, 112, 112, 64)         0         ['batch_normalization_66[0][0]\n",
            "                                                                    ']                            \n",
            "                                                                                                  \n",
            " max_pooling2d_2 (MaxPoolin  (None, 56, 56, 64)           0         ['re_lu_66[0][0]']            \n",
            " g2D)                                                                                             \n",
            "                                                                                                  \n",
            " conv2d_73 (Conv2D)          (None, 56, 56, 64)           36928     ['max_pooling2d_2[0][0]']     \n",
            "                                                                                                  \n",
            " batch_normalization_67 (Ba  (None, 56, 56, 64)           256       ['conv2d_73[0][0]']           \n",
            " tchNormalization)                                                                                \n",
            "                                                                                                  \n",
            " re_lu_67 (ReLU)             (None, 56, 56, 64)           0         ['batch_normalization_67[0][0]\n",
            "                                                                    ']                            \n",
            "                                                                                                  \n",
            " conv2d_74 (Conv2D)          (None, 56, 56, 64)           36928     ['re_lu_67[0][0]']            \n",
            "                                                                                                  \n",
            " batch_normalization_68 (Ba  (None, 56, 56, 64)           256       ['conv2d_74[0][0]']           \n",
            " tchNormalization)                                                                                \n",
            "                                                                                                  \n",
            " add_32 (Add)                (None, 56, 56, 64)           0         ['batch_normalization_68[0][0]\n",
            "                                                                    ',                            \n",
            "                                                                     'max_pooling2d_2[0][0]']     \n",
            "                                                                                                  \n",
            " re_lu_68 (ReLU)             (None, 56, 56, 64)           0         ['add_32[0][0]']              \n",
            "                                                                                                  \n",
            " conv2d_75 (Conv2D)          (None, 56, 56, 64)           36928     ['re_lu_68[0][0]']            \n",
            "                                                                                                  \n",
            " batch_normalization_69 (Ba  (None, 56, 56, 64)           256       ['conv2d_75[0][0]']           \n",
            " tchNormalization)                                                                                \n",
            "                                                                                                  \n",
            " re_lu_69 (ReLU)             (None, 56, 56, 64)           0         ['batch_normalization_69[0][0]\n",
            "                                                                    ']                            \n",
            "                                                                                                  \n",
            " conv2d_76 (Conv2D)          (None, 56, 56, 64)           36928     ['re_lu_69[0][0]']            \n",
            "                                                                                                  \n",
            " batch_normalization_70 (Ba  (None, 56, 56, 64)           256       ['conv2d_76[0][0]']           \n",
            " tchNormalization)                                                                                \n",
            "                                                                                                  \n",
            " add_33 (Add)                (None, 56, 56, 64)           0         ['batch_normalization_70[0][0]\n",
            "                                                                    ',                            \n",
            "                                                                     're_lu_68[0][0]']            \n",
            "                                                                                                  \n",
            " re_lu_70 (ReLU)             (None, 56, 56, 64)           0         ['add_33[0][0]']              \n",
            "                                                                                                  \n",
            " conv2d_77 (Conv2D)          (None, 28, 28, 128)          73856     ['re_lu_70[0][0]']            \n",
            "                                                                                                  \n",
            " batch_normalization_71 (Ba  (None, 28, 28, 128)          512       ['conv2d_77[0][0]']           \n",
            " tchNormalization)                                                                                \n",
            "                                                                                                  \n",
            " re_lu_71 (ReLU)             (None, 28, 28, 128)          0         ['batch_normalization_71[0][0]\n",
            "                                                                    ']                            \n",
            "                                                                                                  \n",
            " conv2d_78 (Conv2D)          (None, 28, 28, 128)          147584    ['re_lu_71[0][0]']            \n",
            "                                                                                                  \n",
            " batch_normalization_72 (Ba  (None, 28, 28, 128)          512       ['conv2d_78[0][0]']           \n",
            " tchNormalization)                                                                                \n",
            "                                                                                                  \n",
            " conv2d_79 (Conv2D)          (None, 28, 28, 128)          8320      ['re_lu_70[0][0]']            \n",
            "                                                                                                  \n",
            " add_34 (Add)                (None, 28, 28, 128)          0         ['batch_normalization_72[0][0]\n",
            "                                                                    ',                            \n",
            "                                                                     'conv2d_79[0][0]']           \n",
            "                                                                                                  \n",
            " re_lu_72 (ReLU)             (None, 28, 28, 128)          0         ['add_34[0][0]']              \n",
            "                                                                                                  \n",
            " conv2d_80 (Conv2D)          (None, 28, 28, 128)          147584    ['re_lu_72[0][0]']            \n",
            "                                                                                                  \n",
            " batch_normalization_73 (Ba  (None, 28, 28, 128)          512       ['conv2d_80[0][0]']           \n",
            " tchNormalization)                                                                                \n",
            "                                                                                                  \n",
            " re_lu_73 (ReLU)             (None, 28, 28, 128)          0         ['batch_normalization_73[0][0]\n",
            "                                                                    ']                            \n",
            "                                                                                                  \n",
            " conv2d_81 (Conv2D)          (None, 28, 28, 128)          147584    ['re_lu_73[0][0]']            \n",
            "                                                                                                  \n",
            " batch_normalization_74 (Ba  (None, 28, 28, 128)          512       ['conv2d_81[0][0]']           \n",
            " tchNormalization)                                                                                \n",
            "                                                                                                  \n",
            " add_35 (Add)                (None, 28, 28, 128)          0         ['batch_normalization_74[0][0]\n",
            "                                                                    ',                            \n",
            "                                                                     're_lu_72[0][0]']            \n",
            "                                                                                                  \n",
            " re_lu_74 (ReLU)             (None, 28, 28, 128)          0         ['add_35[0][0]']              \n",
            "                                                                                                  \n",
            " conv2d_82 (Conv2D)          (None, 14, 14, 256)          295168    ['re_lu_74[0][0]']            \n",
            "                                                                                                  \n",
            " batch_normalization_75 (Ba  (None, 14, 14, 256)          1024      ['conv2d_82[0][0]']           \n",
            " tchNormalization)                                                                                \n",
            "                                                                                                  \n",
            " re_lu_75 (ReLU)             (None, 14, 14, 256)          0         ['batch_normalization_75[0][0]\n",
            "                                                                    ']                            \n",
            "                                                                                                  \n",
            " conv2d_83 (Conv2D)          (None, 14, 14, 256)          590080    ['re_lu_75[0][0]']            \n",
            "                                                                                                  \n",
            " batch_normalization_76 (Ba  (None, 14, 14, 256)          1024      ['conv2d_83[0][0]']           \n",
            " tchNormalization)                                                                                \n",
            "                                                                                                  \n",
            " conv2d_84 (Conv2D)          (None, 14, 14, 256)          33024     ['re_lu_74[0][0]']            \n",
            "                                                                                                  \n",
            " add_36 (Add)                (None, 14, 14, 256)          0         ['batch_normalization_76[0][0]\n",
            "                                                                    ',                            \n",
            "                                                                     'conv2d_84[0][0]']           \n",
            "                                                                                                  \n",
            " re_lu_76 (ReLU)             (None, 14, 14, 256)          0         ['add_36[0][0]']              \n",
            "                                                                                                  \n",
            " conv2d_85 (Conv2D)          (None, 14, 14, 256)          590080    ['re_lu_76[0][0]']            \n",
            "                                                                                                  \n",
            " batch_normalization_77 (Ba  (None, 14, 14, 256)          1024      ['conv2d_85[0][0]']           \n",
            " tchNormalization)                                                                                \n",
            "                                                                                                  \n",
            " re_lu_77 (ReLU)             (None, 14, 14, 256)          0         ['batch_normalization_77[0][0]\n",
            "                                                                    ']                            \n",
            "                                                                                                  \n",
            " conv2d_86 (Conv2D)          (None, 14, 14, 256)          590080    ['re_lu_77[0][0]']            \n",
            "                                                                                                  \n",
            " batch_normalization_78 (Ba  (None, 14, 14, 256)          1024      ['conv2d_86[0][0]']           \n",
            " tchNormalization)                                                                                \n",
            "                                                                                                  \n",
            " add_37 (Add)                (None, 14, 14, 256)          0         ['batch_normalization_78[0][0]\n",
            "                                                                    ',                            \n",
            "                                                                     're_lu_76[0][0]']            \n",
            "                                                                                                  \n",
            " re_lu_78 (ReLU)             (None, 14, 14, 256)          0         ['add_37[0][0]']              \n",
            "                                                                                                  \n",
            " conv2d_87 (Conv2D)          (None, 7, 7, 512)            1180160   ['re_lu_78[0][0]']            \n",
            "                                                                                                  \n",
            " batch_normalization_79 (Ba  (None, 7, 7, 512)            2048      ['conv2d_87[0][0]']           \n",
            " tchNormalization)                                                                                \n",
            "                                                                                                  \n",
            " re_lu_79 (ReLU)             (None, 7, 7, 512)            0         ['batch_normalization_79[0][0]\n",
            "                                                                    ']                            \n",
            "                                                                                                  \n",
            " conv2d_88 (Conv2D)          (None, 7, 7, 512)            2359808   ['re_lu_79[0][0]']            \n",
            "                                                                                                  \n",
            " batch_normalization_80 (Ba  (None, 7, 7, 512)            2048      ['conv2d_88[0][0]']           \n",
            " tchNormalization)                                                                                \n",
            "                                                                                                  \n",
            " conv2d_89 (Conv2D)          (None, 7, 7, 512)            131584    ['re_lu_78[0][0]']            \n",
            "                                                                                                  \n",
            " add_38 (Add)                (None, 7, 7, 512)            0         ['batch_normalization_80[0][0]\n",
            "                                                                    ',                            \n",
            "                                                                     'conv2d_89[0][0]']           \n",
            "                                                                                                  \n",
            " re_lu_80 (ReLU)             (None, 7, 7, 512)            0         ['add_38[0][0]']              \n",
            "                                                                                                  \n",
            " conv2d_90 (Conv2D)          (None, 7, 7, 512)            2359808   ['re_lu_80[0][0]']            \n",
            "                                                                                                  \n",
            " batch_normalization_81 (Ba  (None, 7, 7, 512)            2048      ['conv2d_90[0][0]']           \n",
            " tchNormalization)                                                                                \n",
            "                                                                                                  \n",
            " re_lu_81 (ReLU)             (None, 7, 7, 512)            0         ['batch_normalization_81[0][0]\n",
            "                                                                    ']                            \n",
            "                                                                                                  \n",
            " conv2d_91 (Conv2D)          (None, 7, 7, 512)            2359808   ['re_lu_81[0][0]']            \n",
            "                                                                                                  \n",
            " batch_normalization_82 (Ba  (None, 7, 7, 512)            2048      ['conv2d_91[0][0]']           \n",
            " tchNormalization)                                                                                \n",
            "                                                                                                  \n",
            " add_39 (Add)                (None, 7, 7, 512)            0         ['batch_normalization_82[0][0]\n",
            "                                                                    ',                            \n",
            "                                                                     're_lu_80[0][0]']            \n",
            "                                                                                                  \n",
            " re_lu_82 (ReLU)             (None, 7, 7, 512)            0         ['add_39[0][0]']              \n",
            "                                                                                                  \n",
            " average_pooling2d_2 (Avera  (None, 4, 4, 512)            0         ['re_lu_82[0][0]']            \n",
            " gePooling2D)                                                                                     \n",
            "                                                                                                  \n",
            " flatten_2 (Flatten)         (None, 8192)                 0         ['average_pooling2d_2[0][0]'] \n",
            "                                                                                                  \n",
            " dense_4 (Dense)             (None, 512)                  4194816   ['flatten_2[0][0]']           \n",
            "                                                                                                  \n",
            " dense_5 (Dense)             (None, 9)                    4617      ['dense_4[0][0]']             \n",
            "                                                                                                  \n",
            "==================================================================================================\n",
            "Total params: 15386761 (58.70 MB)\n",
            "Trainable params: 15378953 (58.67 MB)\n",
            "Non-trainable params: 7808 (30.50 KB)\n",
            "__________________________________________________________________________________________________\n"
          ]
        }
      ],
      "source": [
        "model_cnn_res18.summary()"
      ]
    },
    {
      "cell_type": "code",
      "execution_count": null,
      "metadata": {
        "id": "WyZci6MVaF1g"
      },
      "outputs": [],
      "source": [
        "history_cnn_res34 = model_cnn_res34.fit(np.array(data), np.array(labels), epochs = 50, shuffle = True, validation_split = 0.15)"
      ]
    },
    {
      "cell_type": "code",
      "execution_count": null,
      "metadata": {
        "id": "NQe69YKfV_Vm"
      },
      "outputs": [],
      "source": [
        "history_cnn_res18 = model_cnn_res18.fit(np.array(data), np.array(labels), epochs = 50, shuffle = True, validation_split = 0.15)"
      ]
    },
    {
      "cell_type": "code",
      "execution_count": null,
      "metadata": {
        "id": "KngnlV0faF4d"
      },
      "outputs": [],
      "source": [
        "# save the model for later use\n",
        "model_cnn_res34.save(\"skin_disease_model_ISIC_resnet34.h5\")"
      ]
    },
    {
      "cell_type": "code",
      "execution_count": null,
      "metadata": {
        "id": "tE18x690WHdZ"
      },
      "outputs": [],
      "source": [
        "# save the model for later use\n",
        "model_cnn_res18.save(\"skin_disease_model_ISIC_resnet18.h5\")"
      ]
    },
    {
      "cell_type": "code",
      "execution_count": null,
      "metadata": {
        "id": "S0AUHmP_aF63"
      },
      "outputs": [],
      "source": [
        "IMG_SAVE_PATH_TESTING = r'/content/Split_smol/val'"
      ]
    },
    {
      "cell_type": "code",
      "execution_count": null,
      "metadata": {
        "id": "gpgI5Pm0aF9b"
      },
      "outputs": [],
      "source": [
        "import PIL\n",
        "import cv2\n",
        "dataset_testing = []\n",
        "for directory in os.listdir(IMG_SAVE_PATH_TESTING):\n",
        "    path = os.path.join(IMG_SAVE_PATH_TESTING, directory)\n",
        "    for image in os.listdir(path):\n",
        "        new_path = os.path.join(path, image)\n",
        "        imgpath=PIL.Image.open(new_path)\n",
        "        imgpath=imgpath.convert('RGB')\n",
        "        img = np.asarray(imgpath)\n",
        "        img = cv2.resize(img, (224, 224))\n",
        "        img=img/255.\n",
        "        dataset_testing.append([img, directory])"
      ]
    },
    {
      "cell_type": "code",
      "execution_count": null,
      "metadata": {
        "id": "0ZNb-2mMaGAQ"
      },
      "outputs": [],
      "source": [
        "testing_data, testing_labels = zip(*dataset_testing)\n",
        "testing_temp = list(map(str_to_Int_mapper, testing_labels))"
      ]
    },
    {
      "cell_type": "code",
      "execution_count": null,
      "metadata": {
        "id": "wBuGFuqykAE0"
      },
      "outputs": [],
      "source": [
        "import keras\n",
        "testing_labels = keras.utils.to_categorical(testing_temp)"
      ]
    },
    {
      "cell_type": "code",
      "execution_count": null,
      "metadata": {
        "id": "UOPyS4AfkAHh"
      },
      "outputs": [],
      "source": [
        "model_cnn_res34.evaluate(np.array(testing_data), np.array(testing_labels))"
      ]
    },
    {
      "cell_type": "code",
      "execution_count": null,
      "metadata": {
        "id": "VsXb39hvZ5ap"
      },
      "outputs": [],
      "source": [
        "model_cnn_res18.evaluate(np.array(testing_data), np.array(testing_labels))"
      ]
    },
    {
      "cell_type": "markdown",
      "source": [
        "## Confusion Matrix"
      ],
      "metadata": {
        "id": "SbvXBZk-FVRQ"
      }
    },
    {
      "cell_type": "code",
      "execution_count": null,
      "metadata": {
        "id": "a-Sj1ji7kAKM"
      },
      "outputs": [],
      "source": [
        "# Create a confusion matrix\n",
        "!pip install scikit-plot\n",
        "from sklearn.metrics import confusion_matrix, classification_report\n",
        "import scikitplot\n",
        "\n",
        "# Make predictions\n",
        "def make_preds(model):\n",
        "    label_preds = model.predict(np.array(testing_data))\n",
        "\n",
        "    def one_hot_highest(arr):\n",
        "        for row in arr:\n",
        "            max_val = max(row)\n",
        "            for i in range(len(row)):\n",
        "                if row[i] == max_val:\n",
        "                    row[i] = 1\n",
        "                else:\n",
        "                    row[i] = 0\n",
        "        return arr\n",
        "\n",
        "    arr=one_hot_highest(label_preds) #one hot\n",
        "    arr2= one_hot_highest(testing_labels)\n",
        "\n",
        "    labelenc=[]\n",
        "    for i in range (0, len(arr)):\n",
        "        flag=0\n",
        "        for j in range (0,9):\n",
        "            if arr[i][j]==1:\n",
        "                labelenc.append(j)\n",
        "                flag=1\n",
        "    labelenctest=[]\n",
        "    for i in range (0, len(arr2)):\n",
        "        for j in range (0,9):\n",
        "            if arr2[i][j]==1:\n",
        "                labelenctest.append(j)\n",
        "\n",
        "    scikitplot.metrics.plot_confusion_matrix(labelenctest,labelenc)\n",
        "    report = classification_report(labelenctest,labelenc)\n",
        "    print(report)"
      ]
    },
    {
      "cell_type": "code",
      "execution_count": null,
      "metadata": {
        "id": "n0pvnZctkAM4"
      },
      "outputs": [],
      "source": [
        "make_preds(model_cnn_res34)"
      ]
    },
    {
      "cell_type": "code",
      "execution_count": null,
      "metadata": {
        "id": "Gkz_8ipWngXw"
      },
      "outputs": [],
      "source": [
        "make_preds(model_cnn_res18)"
      ]
    },
    {
      "cell_type": "code",
      "execution_count": null,
      "metadata": {
        "id": "NaI6tfmrCLot"
      },
      "outputs": [],
      "source": []
    }
  ],
  "metadata": {
    "accelerator": "GPU",
    "colab": {
      "gpuType": "T4",
      "provenance": []
    },
    "kernelspec": {
      "display_name": "Python 3",
      "name": "python3"
    },
    "language_info": {
      "name": "python"
    }
  },
  "nbformat": 4,
  "nbformat_minor": 0
}